{
 "cells": [
  {
   "cell_type": "markdown",
   "metadata": {},
   "source": [
    "# STA 243 - \n",
    " - Collin Kennedy\n",
    "\n",
    "\n",
    "\n",
    "\n",
    " ## Implementation of Randomized Matrix Multiplication Algorithm"
   ]
  },
  {
   "cell_type": "code",
   "execution_count": 7,
   "metadata": {},
   "outputs": [],
   "source": [
    "import numpy as np\n",
    "import pandas as pd\n",
    "\n",
    "#read in matrix A and matrix B\n",
    "with open(\"STA243_homework_1_matrix_A.csv\") as file_name:\n",
    "    A= np.loadtxt(file_name, delimiter=\",\")\n",
    "\n",
    "with open(\"STA243_homework_1_matrix_B.csv\") as file_name:\n",
    "    B = np.loadtxt(file_name, delimiter = \",\")"
   ]
  },
  {
   "cell_type": "code",
   "execution_count": 16,
   "metadata": {},
   "outputs": [
    {
     "data": {
      "text/plain": [
       "(640, 640)"
      ]
     },
     "execution_count": 16,
     "metadata": {},
     "output_type": "execute_result"
    }
   ],
   "source": [
    "A.shape\n",
    "B.shape"
   ]
  },
  {
   "cell_type": "code",
   "execution_count": 8,
   "metadata": {},
   "outputs": [],
   "source": [
    "\n",
    "def random_matrix_mult(matrixA,matrixB,r, uniform_sampling = True):\n",
    "    #make sure dimensions are appropriate for multiplication in the first place\n",
    "    if matrixA.shape[1] != matrixB.shape[0]:\n",
    "        raise ValueError('improper dimensions for matrix multiplication') #throw error if dimensions are incompatible\n",
    "    n = matrixA.shape[1]\n",
    "\n",
    "    #pick the i_ls (there should be 'r' of them) from the range of 1 to n\n",
    "    list_i_ls = np.random.randint(1,n+1, size = r) #we do n+1 because upper bound parameter is non-inclusive\n",
    "\n",
    "    M = np.zeros((matrixA.shape[0],matrixB.shape[1])) #initialize empty matrix\n",
    "\n",
    "    #this will be used in calculating the optimal probabilities when we are not doing uniform sampling\n",
    "    sum_of_magnitudes = 0\n",
    "    for k in range(1,n+1):\n",
    "        sum_of_magnitudes = sum_of_magnitudes + np.linalg.norm(matrixA[:,k-1])*np.linalg.norm(matrixB[k-1,:])\n",
    "\n",
    "\n",
    "\n",
    "    if uniform_sampling == True: #just use 1/n\n",
    "        p_k = 1/n\n",
    "\n",
    "    #loop through list of i's, create the matrix X_l, and add X_l to the matrix M\n",
    "        for i in list_i_ls: #this should loop 'r' number of times\n",
    "\n",
    "            for k in range(1,n+1):\n",
    "\n",
    "                if i == k: #this is like the indicator function == 1:\n",
    "                    X_l = (1/(r*p_k))*np.outer(matrixA[:,k-1], matrixB[k-1,:]) #k-1 due to indexing (ie, first row k=1 is really 0th row)\n",
    "                    \n",
    "                    #append X_l to M (adding into M)\n",
    "                    M = M + X_l\n",
    "\n",
    "                else:\n",
    "                    continue\n",
    "    else: #non-uniform random sampling. optimize probability selection to minimize error   \n",
    "\n",
    "        for i in list_i_ls: #this should loop 'r' number of times\n",
    "\n",
    "            for k in range(1,n+1):\n",
    "\n",
    "                #create kth probability\n",
    "                p_k = (np.linalg.norm(matrixA[:,k-1])*np.linalg.norm(matrixB[k-1,:]))/sum_of_magnitudes\n",
    "\n",
    "                if i == k: #this is like the indicator function == 1:\n",
    "                    X_l = (1/(r*p_k))*np.outer(matrixA[:,k-1], matrixB[k-1,:])\n",
    "                    \n",
    "                    #append X_l to M (adding into M)\n",
    "                    M = M + X_l\n",
    "\n",
    "                else:\n",
    "                    continue      \n",
    "\n",
    "\n",
    "\n",
    "\n",
    "    return(M)\n",
    "    #else: #gotta calculate p_k\n",
    "\n",
    "\n"
   ]
  },
  {
   "cell_type": "code",
   "execution_count": 12,
   "metadata": {},
   "outputs": [],
   "source": [
    "\n",
    "def approx_error(estimator_matrix, true_matrix,A,B):\n",
    "\n",
    "    approximation_error = (np.linalg.norm(estimator_matrix - true_matrix, ord = 'fro'))/(np.linalg.norm(A, ord = 'fro')*np.linalg.norm(B, ord = 'fro'))\n",
    "    return(approximation_error)"
   ]
  },
  {
   "cell_type": "code",
   "execution_count": 13,
   "metadata": {},
   "outputs": [],
   "source": [
    "#calculate error for different values of r\n",
    "list_of_rs = [20,50,100,200,500]\n",
    "\n",
    "AB = np.matmul(A,B)\n",
    "approx_error_dict = dict()\n",
    "for r in list_of_rs:\n",
    "    #calculate M using the correct value of r\n",
    "    M = random_matrix_mult(A,B,r=r, uniform_sampling = False)\n",
    "    approximation_error = approx_error(M,AB,A,B)\n",
    "\n",
    "    #append the approximation error \n",
    "    approx_error_dict[\"r = {}\".format(r)] = approximation_error\n"
   ]
  },
  {
   "cell_type": "code",
   "execution_count": 14,
   "metadata": {},
   "outputs": [
    {
     "data": {
      "text/plain": [
       "{'r = 20': 0.40398694801074836,\n",
       " 'r = 50': 0.3569364421364836,\n",
       " 'r = 100': 0.3479564256503716,\n",
       " 'r = 200': 0.3341719040800268,\n",
       " 'r = 500': 0.32838622991493366}"
      ]
     },
     "execution_count": 14,
     "metadata": {},
     "output_type": "execute_result"
    }
   ],
   "source": [
    "\n",
    "approx_error_dict"
   ]
  },
  {
   "cell_type": "code",
   "execution_count": null,
   "metadata": {},
   "outputs": [],
   "source": []
  }
 ],
 "metadata": {
  "interpreter": {
   "hash": "39d961a08718555772bb0ac411a6b2b438a184f9ac0d65f0613f436450256741"
  },
  "kernelspec": {
   "display_name": "Python 3.7.4 ('base')",
   "language": "python",
   "name": "python3"
  },
  "language_info": {
   "codemirror_mode": {
    "name": "ipython",
    "version": 3
   },
   "file_extension": ".py",
   "mimetype": "text/x-python",
   "name": "python",
   "nbconvert_exporter": "python",
   "pygments_lexer": "ipython3",
   "version": "3.9.6"
  },
  "orig_nbformat": 4
 },
 "nbformat": 4,
 "nbformat_minor": 2
}
