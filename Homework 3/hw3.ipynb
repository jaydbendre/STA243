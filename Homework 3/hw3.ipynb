{
 "cells": [
  {
   "cell_type": "code",
   "execution_count": 68,
   "metadata": {},
   "outputs": [],
   "source": [
    "# Loading the MNIST dataset\n",
    "import numpy as np\n",
    "import idx2numpy\n",
    "import matplotlib.pyplot as plt\n",
    "from scipy.stats import multinomial,multivariate_normal"
   ]
  },
  {
   "cell_type": "code",
   "execution_count": 44,
   "metadata": {},
   "outputs": [],
   "source": [
    "test_datapath = './Datasets/Test Images/t10k-images.idx3-ubyte'\n",
    "train_datapath = './Datasets/Train Images/train-images.idx3-ubyte'\n",
    "test_labelpath = './Datasets/Test Labels/t10k-labels.idx1-ubyte'\n",
    "train_labelpath = './Datasets/Train Labels/train-labels.idx1-ubyte'\n",
    "\n",
    "X_train = idx2numpy.convert_from_file(train_datapath)\n",
    "y_train = idx2numpy.convert_from_file(train_labelpath)\n",
    "\n",
    "X_test = idx2numpy.convert_from_file(test_datapath)\n",
    "y_test = idx2numpy.convert_from_file(test_labelpath)\n"
   ]
  },
  {
   "cell_type": "code",
   "execution_count": 93,
   "metadata": {},
   "outputs": [],
   "source": [
    "train_idx = np.where((y_train == 0) | (y_train == 1) | \n",
    "                     (y_train == 2) | (y_train == 3) | (y_train == 4))\n",
    "\n",
    "test_idx = np.where((y_test == 0) | (y_test == 1) | \n",
    "                     (y_test == 2) | (y_test == 3) | (y_test == 4))"
   ]
  },
  {
   "cell_type": "code",
   "execution_count": 94,
   "metadata": {},
   "outputs": [],
   "source": [
    "X_train = X_train[train_idx]\n",
    "X_test = X_test[test_idx]\n",
    "y_train = y_train[train_idx]\n",
    "y_test = y_test[test_idx]"
   ]
  },
  {
   "cell_type": "code",
   "execution_count": 95,
   "metadata": {},
   "outputs": [],
   "source": [
    "X_train = X_train/255\n",
    "X_test = X_test/255"
   ]
  },
  {
   "cell_type": "code",
   "execution_count": 96,
   "metadata": {},
   "outputs": [
    {
     "data": {
      "text/plain": [
       "<matplotlib.image.AxesImage at 0x1e592e50820>"
      ]
     },
     "execution_count": 96,
     "metadata": {},
     "output_type": "execute_result"
    },
    {
     "data": {
      "image/png": "[encoded data removed]",
      "text/plain": [
       "<Figure size 432x288 with 1 Axes>"
      ]
     },
     "metadata": {
      "needs_background": "light"
     },
     "output_type": "display_data"
    }
   ],
   "source": [
    "plt.imshow(X_train[0])"
   ]
  },
  {
   "cell_type": "code",
   "execution_count": 125,
   "metadata": {},
   "outputs": [],
   "source": [
    "X_train_compressed = np.zeros((X_train.shape[0], 14,14))\n",
    "X_test_compressed = np.zeros((X_test.shape[0], 14,14))"
   ]
  },
  {
   "cell_type": "code",
   "execution_count": 126,
   "metadata": {},
   "outputs": [],
   "source": [
    "for i in range(X_train.shape[0]):\n",
    "    X_train_compressed[i] = np.add.reduceat(np.add.reduceat(X_train[i], np.arange(0,X_train[i].shape[0],2), axis=0)\n",
    "                                            , np.arange(0,X_train[i].shape[1],2), axis=1)/4"
   ]
  },
  {
   "cell_type": "code",
   "execution_count": 127,
   "metadata": {},
   "outputs": [],
   "source": [
    "for i in range(X_test.shape[0]):\n",
    "    X_test_compressed[i] = np.add.reduceat(np.add.reduceat(X_test[i], np.arange(0,X_test[i].shape[0],2), axis=0)\n",
    "                                            , np.arange(0,X_test[i].shape[1],2), axis=1)/4"
   ]
  },
  {
   "cell_type": "code",
   "execution_count": 128,
   "metadata": {},
   "outputs": [
    {
     "data": {
      "text/plain": [
       "<matplotlib.image.AxesImage at 0x1e595c994f0>"
      ]
     },
     "execution_count": 128,
     "metadata": {},
     "output_type": "execute_result"
    },
    {
     "data": {
      "image/png": "[encoded data removed]",
      "text/plain": [
       "<Figure size 432x288 with 1 Axes>"
      ]
     },
     "metadata": {
      "needs_background": "light"
     },
     "output_type": "display_data"
    }
   ],
   "source": [
    "plt.imshow(X_train_compressed[0])"
   ]
  },
  {
   "cell_type": "code",
   "execution_count": 129,
   "metadata": {},
   "outputs": [],
   "source": [
    "def generate_data(k, cluster_size, size, spherical=True, seed = 42):\n",
    "    np.random.seed(seed)\n",
    "    \n",
    "    means = [np.random.rand(k) for _ in range(cluster_size)]\n",
    "    \n",
    "    if spherical: \n",
    "        covariance_matrix = [np.diag(np.ones(k)*np.random.rand()) for _ in range(cluster_size)]\n",
    "    else:\n",
    "        covariance_matrix = [np.diag(np.random.rand(k)) for _ in range(cluster_size)]\n",
    "    \n",
    "    normal_distributions = [multivariate_normal(\n",
    "        mean=means[i], cov=covariance_matrix[i]) for i in range(cluster_size)]\n",
    "    \n",
    "    return np.array(normal_distributions)\n",
    "          \n",
    "        "
   ]
  },
  {
   "cell_type": "code",
   "execution_count": 132,
   "metadata": {},
   "outputs": [],
   "source": [
    "N = X_train.shape[0]\n",
    "k = 5 \n",
    "threshold = 0.0001 \n",
    "\n",
    "pi = np.random.dirichlet(np.ones(k))\n"
   ]
  },
  {
   "cell_type": "code",
   "execution_count": 133,
   "metadata": {},
   "outputs": [
    {
     "data": {
      "text/plain": [
       "(5,)"
      ]
     },
     "execution_count": 133,
     "metadata": {},
     "output_type": "execute_result"
    }
   ],
   "source": [
    "pi.shape"
   ]
  },
  {
   "cell_type": "code",
   "execution_count": 113,
   "metadata": {},
   "outputs": [],
   "source": [
    "normal_distributions = generate_data(X_train.shape[1] * X_train.shape[2],k, N)"
   ]
  },
  {
   "cell_type": "code",
   "execution_count": 203,
   "metadata": {},
   "outputs": [],
   "source": [
    "def expectation_step(X,initial_distributions, pi, clusters, threshold = 0.0001):\n",
    "    F = dict()\n",
    "    i = 0\n",
    "    predictions = []\n",
    "    for x in X:\n",
    "        x_i = x.reshape(-1,1)\n",
    "        denominator = np.sum(np.array([pi[k]*initial_distributions[k].pdf(x_i) for k in range(clusters)]))\n",
    "        F[i] = [pi[k]*initial_distributions[k].pdf(x_i)/denominator for k in range(clusters)]\n",
    "        max_val = np.argmax(F[i])//x_i.shape[0]\n",
    "        predictions.append(max_val)\n",
    "        i+=1\n",
    "    return (F, predictions)\n",
    "\n",
    "def maximization_step(X, F, clusters, initial_distributions, spherical=True):\n",
    "    pass\n",
    "\n"
   ]
  },
  {
   "cell_type": "code",
   "execution_count": 204,
   "metadata": {},
   "outputs": [],
   "source": [
    "print(expectation_step(X_train_compressed, normal_distributions, pi, k))"
   ]
  },
  {
   "cell_type": "code",
   "execution_count": null,
   "metadata": {},
   "outputs": [],
   "source": []
  }
 ],
 "metadata": {
  "interpreter": {
   "hash": "f2db188c233a700111d30e3ccbeb8d5ce15dbfb83d194c6870e309733805c539"
  },
  "kernelspec": {
   "display_name": "Python 3.9.6 64-bit",
   "language": "python",
   "name": "python3"
  },
  "language_info": {
   "codemirror_mode": {
    "name": "ipython",
    "version": 3
   },
   "file_extension": ".py",
   "mimetype": "text/x-python",
   "name": "python",
   "nbconvert_exporter": "python",
   "pygments_lexer": "ipython3",
   "version": "3.9.6"
  },
  "orig_nbformat": 4
 },
 "nbformat": 4,
 "nbformat_minor": 2
}
