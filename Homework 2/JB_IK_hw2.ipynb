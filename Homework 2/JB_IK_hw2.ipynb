{
 "cells": [
  {
   "cell_type": "markdown",
   "metadata": {},
   "source": [
    "## Question 2\n",
    "Fitting a linear regression model and finding the $R^2$ values for training and testing sets."
   ]
  },
  {
   "cell_type": "markdown",
   "metadata": {},
   "source": [
    "a. Building a linear model and looking at $R^2$ for training and testing dataset"
   ]
  },
  {
   "cell_type": "code",
   "execution_count": 1,
   "metadata": {},
   "outputs": [],
   "source": [
    "# Importing required libraries\n",
    "from sklearn.linear_model import LinearRegression\n",
    "from sklearn.preprocessing import StandardScaler\n",
    "from sklearn.metrics import r2_score\n",
    "import pandas as pd \n",
    "import numpy as np \n",
    "import warnings \n",
    "import matplotlib.pyplot as plt\n",
    "from IPython.display import display, Markdown\n",
    "warnings.filterwarnings(\"ignore\")"
   ]
  },
  {
   "cell_type": "code",
   "execution_count": 2,
   "metadata": {},
   "outputs": [
    {
     "data": {
      "text/html": [
       "<div>\n",
       "<style scoped>\n",
       "    .dataframe tbody tr th:only-of-type {\n",
       "        vertical-align: middle;\n",
       "    }\n",
       "\n",
       "    .dataframe tbody tr th {\n",
       "        vertical-align: top;\n",
       "    }\n",
       "\n",
       "    .dataframe thead th {\n",
       "        text-align: right;\n",
       "    }\n",
       "</style>\n",
       "<table border=\"1\" class=\"dataframe\">\n",
       "  <thead>\n",
       "    <tr style=\"text-align: right;\">\n",
       "      <th></th>\n",
       "      <th>Unnamed: 0</th>\n",
       "      <th>id</th>\n",
       "      <th>date</th>\n",
       "      <th>price</th>\n",
       "      <th>bedrooms</th>\n",
       "      <th>bathrooms</th>\n",
       "      <th>sqft_living</th>\n",
       "      <th>sqft_lot</th>\n",
       "      <th>floors</th>\n",
       "      <th>waterfront</th>\n",
       "      <th>...</th>\n",
       "      <th>grade</th>\n",
       "      <th>sqft_above</th>\n",
       "      <th>sqft_basement</th>\n",
       "      <th>yr_built</th>\n",
       "      <th>yr_renovated</th>\n",
       "      <th>zipcode</th>\n",
       "      <th>lat</th>\n",
       "      <th>long</th>\n",
       "      <th>sqft_living15</th>\n",
       "      <th>sqft_lot15</th>\n",
       "    </tr>\n",
       "  </thead>\n",
       "  <tbody>\n",
       "    <tr>\n",
       "      <th>0</th>\n",
       "      <td>2</td>\n",
       "      <td>6414100192</td>\n",
       "      <td>20141209T000000</td>\n",
       "      <td>538000</td>\n",
       "      <td>3</td>\n",
       "      <td>2.25</td>\n",
       "      <td>2570</td>\n",
       "      <td>7242</td>\n",
       "      <td>2.0</td>\n",
       "      <td>0</td>\n",
       "      <td>...</td>\n",
       "      <td>7</td>\n",
       "      <td>2170</td>\n",
       "      <td>400</td>\n",
       "      <td>1951</td>\n",
       "      <td>1991</td>\n",
       "      <td>98125</td>\n",
       "      <td>47.7210</td>\n",
       "      <td>-122.319</td>\n",
       "      <td>1690</td>\n",
       "      <td>7639</td>\n",
       "    </tr>\n",
       "    <tr>\n",
       "      <th>1</th>\n",
       "      <td>4</td>\n",
       "      <td>2487200875</td>\n",
       "      <td>20141209T000000</td>\n",
       "      <td>604000</td>\n",
       "      <td>4</td>\n",
       "      <td>3.00</td>\n",
       "      <td>1960</td>\n",
       "      <td>5000</td>\n",
       "      <td>1.0</td>\n",
       "      <td>0</td>\n",
       "      <td>...</td>\n",
       "      <td>7</td>\n",
       "      <td>1050</td>\n",
       "      <td>910</td>\n",
       "      <td>1965</td>\n",
       "      <td>0</td>\n",
       "      <td>98136</td>\n",
       "      <td>47.5208</td>\n",
       "      <td>-122.393</td>\n",
       "      <td>1360</td>\n",
       "      <td>5000</td>\n",
       "    </tr>\n",
       "    <tr>\n",
       "      <th>2</th>\n",
       "      <td>5</td>\n",
       "      <td>1954400510</td>\n",
       "      <td>20150218T000000</td>\n",
       "      <td>510000</td>\n",
       "      <td>3</td>\n",
       "      <td>2.00</td>\n",
       "      <td>1680</td>\n",
       "      <td>8080</td>\n",
       "      <td>1.0</td>\n",
       "      <td>0</td>\n",
       "      <td>...</td>\n",
       "      <td>8</td>\n",
       "      <td>1680</td>\n",
       "      <td>0</td>\n",
       "      <td>1987</td>\n",
       "      <td>0</td>\n",
       "      <td>98074</td>\n",
       "      <td>47.6168</td>\n",
       "      <td>-122.045</td>\n",
       "      <td>1800</td>\n",
       "      <td>7503</td>\n",
       "    </tr>\n",
       "    <tr>\n",
       "      <th>3</th>\n",
       "      <td>6</td>\n",
       "      <td>7237550310</td>\n",
       "      <td>20140512T000000</td>\n",
       "      <td>1225000</td>\n",
       "      <td>4</td>\n",
       "      <td>4.50</td>\n",
       "      <td>5420</td>\n",
       "      <td>101930</td>\n",
       "      <td>1.0</td>\n",
       "      <td>0</td>\n",
       "      <td>...</td>\n",
       "      <td>11</td>\n",
       "      <td>3890</td>\n",
       "      <td>1530</td>\n",
       "      <td>2001</td>\n",
       "      <td>0</td>\n",
       "      <td>98053</td>\n",
       "      <td>47.6561</td>\n",
       "      <td>-122.005</td>\n",
       "      <td>4760</td>\n",
       "      <td>101930</td>\n",
       "    </tr>\n",
       "    <tr>\n",
       "      <th>4</th>\n",
       "      <td>7</td>\n",
       "      <td>1321400060</td>\n",
       "      <td>20140627T000000</td>\n",
       "      <td>257500</td>\n",
       "      <td>3</td>\n",
       "      <td>2.25</td>\n",
       "      <td>1715</td>\n",
       "      <td>6819</td>\n",
       "      <td>2.0</td>\n",
       "      <td>0</td>\n",
       "      <td>...</td>\n",
       "      <td>7</td>\n",
       "      <td>1715</td>\n",
       "      <td>0</td>\n",
       "      <td>1995</td>\n",
       "      <td>0</td>\n",
       "      <td>98003</td>\n",
       "      <td>47.3097</td>\n",
       "      <td>-122.327</td>\n",
       "      <td>2238</td>\n",
       "      <td>6819</td>\n",
       "    </tr>\n",
       "  </tbody>\n",
       "</table>\n",
       "<p>5 rows × 22 columns</p>\n",
       "</div>"
      ],
      "text/plain": [
       "   Unnamed: 0          id             date    price  bedrooms  bathrooms  \\\n",
       "0           2  6414100192  20141209T000000   538000         3       2.25   \n",
       "1           4  2487200875  20141209T000000   604000         4       3.00   \n",
       "2           5  1954400510  20150218T000000   510000         3       2.00   \n",
       "3           6  7237550310  20140512T000000  1225000         4       4.50   \n",
       "4           7  1321400060  20140627T000000   257500         3       2.25   \n",
       "\n",
       "   sqft_living  sqft_lot  floors  waterfront  ...  grade  sqft_above  \\\n",
       "0         2570      7242     2.0           0  ...      7        2170   \n",
       "1         1960      5000     1.0           0  ...      7        1050   \n",
       "2         1680      8080     1.0           0  ...      8        1680   \n",
       "3         5420    101930     1.0           0  ...     11        3890   \n",
       "4         1715      6819     2.0           0  ...      7        1715   \n",
       "\n",
       "   sqft_basement  yr_built  yr_renovated  zipcode      lat     long  \\\n",
       "0            400      1951          1991    98125  47.7210 -122.319   \n",
       "1            910      1965             0    98136  47.5208 -122.393   \n",
       "2              0      1987             0    98074  47.6168 -122.045   \n",
       "3           1530      2001             0    98053  47.6561 -122.005   \n",
       "4              0      1995             0    98003  47.3097 -122.327   \n",
       "\n",
       "   sqft_living15  sqft_lot15  \n",
       "0           1690        7639  \n",
       "1           1360        5000  \n",
       "2           1800        7503  \n",
       "3           4760      101930  \n",
       "4           2238        6819  \n",
       "\n",
       "[5 rows x 22 columns]"
      ]
     },
     "execution_count": 2,
     "metadata": {},
     "output_type": "execute_result"
    }
   ],
   "source": [
    "# Loading the data from the CSV using Pandas\n",
    "train_df = pd.read_csv('train.data.csv')\n",
    "test_df = pd.read_csv('test.data.csv')\n",
    "\n",
    "# Getting a preview into the dataset\n",
    "train_df.head()"
   ]
  },
  {
   "cell_type": "code",
   "execution_count": 3,
   "metadata": {},
   "outputs": [],
   "source": [
    "# Selecting the predictors and the target\n",
    "X_train = train_df[[\"bedrooms\",\"bathrooms\",\"sqft_living\",\"sqft_lot\"]]\n",
    "y_train = train_df[\"price\"]\n",
    "\n",
    "X_test = test_df[[\"bedrooms\",\"bathrooms\",\"sqft_living\",\"sqft_lot\"]]\n",
    "y_test = test_df[\"price\"]"
   ]
  },
  {
   "cell_type": "code",
   "execution_count": 4,
   "metadata": {},
   "outputs": [
    {
     "data": {
      "text/plain": [
       "LinearRegression()"
      ]
     },
     "execution_count": 4,
     "metadata": {},
     "output_type": "execute_result"
    }
   ],
   "source": [
    "# Fitting the model using LinearRegression() in sklearn\n",
    "lm = LinearRegression()\n",
    "lm.fit(X_train,y_train)"
   ]
  },
  {
   "cell_type": "code",
   "execution_count": 5,
   "metadata": {},
   "outputs": [
    {
     "data": {
      "text/markdown": [
       "$R^2 = $ 0.5101 for training and  $R^2 = $ 0.5050 for testing"
      ],
      "text/plain": [
       "<IPython.core.display.Markdown object>"
      ]
     },
     "metadata": {},
     "output_type": "display_data"
    }
   ],
   "source": [
    "# Calculating the R^2 for training and testing datasets\n",
    "train_r2 = lm.score(X_train,y_train)\n",
    "test_r2 = lm.score(X_test,y_test)\n",
    "display(Markdown(\"$R^2 = $ {:.4f} for training and  $R^2 = $ {:.4f} for testing\".format(train_r2,test_r2)))"
   ]
  },
  {
   "cell_type": "markdown",
   "metadata": {},
   "source": [
    "b. Predicting the price of bill gates house"
   ]
  },
  {
   "cell_type": "code",
   "execution_count": 6,
   "metadata": {},
   "outputs": [
    {
     "data": {
      "text/markdown": [
       "The cost of the fancy house is: $15,436,769.54"
      ],
      "text/plain": [
       "<IPython.core.display.Markdown object>"
      ]
     },
     "metadata": {},
     "output_type": "display_data"
    }
   ],
   "source": [
    "# Loading the data from the CSV using Pandas\n",
    "fancy_house = pd.read_csv('fancyhouse.csv')\n",
    "\n",
    "# Selecting the predictors\n",
    "X_fancy = fancy_house[[\"bedrooms\",\"bathrooms\",\"sqft_living\",\"sqft_lot\"]]\n",
    "\n",
    "# Using the model above for prediction\n",
    "fancy_house_cost = lm.predict(X_fancy)[0]\n",
    "display(Markdown(\"The cost of the fancy house is: ${:,.2f}\".format(fancy_house_cost)))"
   ]
  },
  {
   "cell_type": "markdown",
   "metadata": {},
   "source": [
    "c. Fitting a new model using the new feature engineered column and observing the $R^2$ values."
   ]
  },
  {
   "cell_type": "code",
   "execution_count": 7,
   "metadata": {},
   "outputs": [
    {
     "data": {
      "text/plain": [
       "LinearRegression()"
      ]
     },
     "execution_count": 7,
     "metadata": {},
     "output_type": "execute_result"
    }
   ],
   "source": [
    "# Feature engineering a new variable\n",
    "X_train[\"bed_bath\"] = X_train[\"bedrooms\"]*X_train[\"bathrooms\"]\n",
    "X_test[\"bed_bath\"] = X_test[\"bedrooms\"]*X_test[\"bathrooms\"]\n",
    "\n",
    "# Fitting the model using LinearRegression() in sklearn\n",
    "lm2 = LinearRegression()\n",
    "lm2.fit(X_train,y_train)"
   ]
  },
  {
   "cell_type": "code",
   "execution_count": 8,
   "metadata": {},
   "outputs": [
    {
     "data": {
      "text/markdown": [
       "$R^2 = $ 0.5174 for training and  $R^2 = $ 0.5105 for testing"
      ],
      "text/plain": [
       "<IPython.core.display.Markdown object>"
      ]
     },
     "metadata": {},
     "output_type": "display_data"
    }
   ],
   "source": [
    "# Calculating the R^2 for training and testing datasets\n",
    "train2_r2 = lm2.score(X_train,y_train)\n",
    "test2_r2 = lm2.score(X_test,y_test)\n",
    "display(Markdown(\"$R^2 = $ {:.4f} for training and  $R^2 = $ {:.4f} for testing\".format(train2_r2,test2_r2)))"
   ]
  },
  {
   "cell_type": "markdown",
   "metadata": {},
   "source": [
    "d. Using gradient descent to get estimates closer to the estimates obtained in the above models."
   ]
  },
  {
   "cell_type": "code",
   "execution_count": 9,
   "metadata": {},
   "outputs": [],
   "source": [
    "# Implementing the gradient for given X and y\n",
    "def gradient(X,y,betas):\n",
    "    \"\"\"\n",
    "    Calculates the gradient of the loss function\n",
    "\n",
    "    Args:\n",
    "        X (np.matrix): Data Matrix (n x d)\n",
    "        y (np.array): Response vector (n x 1)\n",
    "        betas (np.array): Regression coefficients (d x 1)\n",
    "\n",
    "    Returns:\n",
    "        np.array: Vector containing gradient of the loss function\n",
    "    \"\"\"\n",
    "    return (2/(X.shape[0]))*X.T @ ((X @ betas) - y)\n",
    "\n",
    "# Implementing the gradient descent based on the above gradient\n",
    "def gradient_descent(X,y,betas,learning_rate,tau = 10e-6):\n",
    "    \"\"\"\n",
    "    Performs Gradient descent on the scaled dataset\n",
    "\n",
    "    Args:\n",
    "        X (np.matrix): Data Matrix (n x d)\n",
    "        y (np.array): Response vector (n x 1)\n",
    "        betas (np.array): Initial coefficient vector (d x 1)\n",
    "        learning_rate (np.float64): Learning rate for gradient descent at which the algorithm converges\n",
    "        tau (np.float64, optional): Threshold value used to determine the stopping point for the algorithm. \n",
    "        Defaults to 10e-6.\n",
    "\n",
    "    Returns:\n",
    "        np.array: True estimate of the regression coefficients\n",
    "    \"\"\"\n",
    "    # Scale the data\n",
    "    scalar = StandardScaler()\n",
    "    X = scalar.fit_transform(X)\n",
    "    \n",
    "    # Adding a column of 1s to the data matrix\n",
    "    X = np.hstack((np.ones((X.shape[0],1)),X))\n",
    "\n",
    "    # Storing the norm of the gradient\n",
    "    gradient_list = []\n",
    "    \n",
    "    # Starting the gradient descent algorithm\n",
    "    while True:\n",
    "        # Getting the gradient at the 't'th iteration\n",
    "        gradients = gradient(X,y,betas)\n",
    "        \n",
    "        # Calculating the norm of the gradient\n",
    "        gradient_norm = np.linalg.norm(gradients)\n",
    "        gradient_list.append(gradient_norm)\n",
    "        \n",
    "        # Checking if the norm of the gradient is less than the threshold value\n",
    "        if gradient_norm < tau:\n",
    "            break\n",
    "        \n",
    "        # Updating the coefficients\n",
    "        betas = betas - learning_rate*gradients\n",
    "        \n",
    "        \n",
    "    # Returning the true coefficients\n",
    "    return (betas,gradient_list,scalar)"
   ]
  },
  {
   "cell_type": "code",
   "execution_count": 10,
   "metadata": {},
   "outputs": [],
   "source": [
    "# Creating the design matrix X \n",
    "X_train_grad = np.array(X_train[[\"bedrooms\",\"bathrooms\",\"sqft_living\",\"sqft_lot\"]])\n",
    "X_test_grad = np.array(X_test[[\"bedrooms\",\"bathrooms\",\"sqft_living\",\"sqft_lot\"]])\n",
    "\n",
    "y_train_grad = np.array(y_train).reshape(-1,1)\n",
    "y_test_grad = np.array(y_test).reshape(-1,1)\n"
   ]
  },
  {
   "cell_type": "code",
   "execution_count": 11,
   "metadata": {},
   "outputs": [],
   "source": [
    "# Running part (a) using the gradient descent algorithm\n",
    "betas_hat, gradient_list, scalar = gradient_descent(X_train_grad,y_train_grad,np.zeros((X_train_grad.shape[1] + 1,1)),0.01)"
   ]
  },
  {
   "cell_type": "code",
   "execution_count": 12,
   "metadata": {},
   "outputs": [],
   "source": [
    "# Preparing the X data for prediction\n",
    "X_train_grad = scalar.transform(X_train_grad)\n",
    "X_test_grad = scalar.transform(X_test_grad)\n",
    "\n",
    "# Adding the intercept to the data matrix\n",
    "X_train_grad = np.hstack((np.ones((X_train_grad.shape[0],1)),X_train_grad))\n",
    "X_test_grad = np.hstack((np.ones((X_test_grad.shape[0],1)),X_test_grad))\n"
   ]
  },
  {
   "cell_type": "code",
   "execution_count": 13,
   "metadata": {},
   "outputs": [
    {
     "data": {
      "text/markdown": [
       "$R^2 = $ 0.5101 for training and  $R^2 = $ 0.5050 for testing"
      ],
      "text/plain": [
       "<IPython.core.display.Markdown object>"
      ]
     },
     "metadata": {},
     "output_type": "display_data"
    }
   ],
   "source": [
    "# Trying to get R^2 for the training and testing datasets\n",
    "y_pred_train = X_train_grad @ betas_hat\n",
    "y_pred_test = X_test_grad @ betas_hat\n",
    "\n",
    "# Calculating the R^2 for training and testing datasets using r2_score\n",
    "train_grad_r2 = r2_score(y_train,y_pred_train)\n",
    "test_grad_r2 = r2_score(y_test,y_pred_test)\n",
    "display(Markdown(\"$R^2 = $ {:.4f} for training and  $R^2 = $ {:.4f} for testing\".format(train_grad_r2,test_grad_r2)))"
   ]
  },
  {
   "cell_type": "code",
   "execution_count": 14,
   "metadata": {},
   "outputs": [
    {
     "data": {
      "text/markdown": [
       "The cost of the fancy house is: $15,436,769.54"
      ],
      "text/plain": [
       "<IPython.core.display.Markdown object>"
      ]
     },
     "metadata": {},
     "output_type": "display_data"
    }
   ],
   "source": [
    "# Part (b) predicting the cost of the fancy house\n",
    "# Selecting the predictors\n",
    "X_fancy = np.array(fancy_house[[\"bedrooms\",\"bathrooms\",\"sqft_living\",\"sqft_lot\"]])\n",
    "X_fancy = scalar.transform(X_fancy)\n",
    "X_fancy = np.hstack((np.ones((X_fancy.shape[0],1)),X_fancy))\n",
    "\n",
    "# Using the model above for prediction\n",
    "fancy_house_cost = (X_fancy @ betas_hat)[0][0]\n",
    "display(Markdown(\"The cost of the fancy house is: ${:,.2f}\".format(fancy_house_cost)))"
   ]
  },
  {
   "cell_type": "code",
   "execution_count": 15,
   "metadata": {},
   "outputs": [
    {
     "data": {
      "text/plain": [
       "Text(0.5, 1.0, 'Gradient descent for part(a)')"
      ]
     },
     "execution_count": 15,
     "metadata": {},
     "output_type": "execute_result"
    },
    {
     "data": {
      "image/png": "[encoded data removed]",
      "text/plain": [
       "<Figure size 432x288 with 1 Axes>"
      ]
     },
     "metadata": {
      "needs_background": "light"
     },
     "output_type": "display_data"
    }
   ],
   "source": [
    "# Looking at the pattern of the gradient descent\n",
    "plt.plot(gradient_list)\n",
    "plt.xlabel(\"Iteration\")\n",
    "plt.ylabel(\"Gradient Norm\")\n",
    "plt.title(\"Gradient descent for part(a)\")"
   ]
  },
  {
   "cell_type": "code",
   "execution_count": 16,
   "metadata": {},
   "outputs": [],
   "source": [
    "# Running part (c) using the gradient descent algorithm\n",
    "X_train_gd1 = np.array(X_train[[\"bedrooms\",\"bathrooms\",\"sqft_living\",\"sqft_lot\",\"bed_bath\"]])\n",
    "X_test_gd1 = np.array(X_test[[\"bedrooms\",\"bathrooms\",\"sqft_living\",\"sqft_lot\",\"bed_bath\"]])\n",
    "\n",
    "# Getting response vector\n",
    "y_train_gd1 = np.array(y_train).reshape(-1,1)\n",
    "y_test_gd1 = np.array(y_test).reshape(-1,1)"
   ]
  },
  {
   "cell_type": "code",
   "execution_count": 17,
   "metadata": {},
   "outputs": [],
   "source": [
    "# Gradient descent for (c)\n",
    "betas_hat_2, gradient_list_2, scalar_2 = gradient_descent(X_train_gd1,y_train_gd1,np.zeros((X_train_grad.shape[1] + 1,1)),0.01)"
   ]
  },
  {
   "cell_type": "code",
   "execution_count": 18,
   "metadata": {},
   "outputs": [],
   "source": [
    "# Preparing the X data for prediction\n",
    "X_train_gd1 = scalar_2.transform(X_train_gd1)\n",
    "X_test_gd1 = scalar_2.transform(X_test_gd1)\n",
    "\n",
    "# Adding the intercept to the data matrix\n",
    "X_train_gd1 = np.hstack((np.ones((X_train_gd1.shape[0],1)),X_train_gd1))\n",
    "X_test_gd1 = np.hstack((np.ones((X_test_gd1.shape[0],1)),X_test_gd1))\n"
   ]
  },
  {
   "cell_type": "code",
   "execution_count": 19,
   "metadata": {},
   "outputs": [
    {
     "data": {
      "text/markdown": [
       "$R^2 = $ 0.5174 for training and  $R^2 = $ 0.5105 for testing"
      ],
      "text/plain": [
       "<IPython.core.display.Markdown object>"
      ]
     },
     "metadata": {},
     "output_type": "display_data"
    }
   ],
   "source": [
    "# Trying to get R^2 for the training and testing datasets\n",
    "y_pred_train = X_train_gd1 @ betas_hat_2\n",
    "y_pred_test = X_test_gd1 @ betas_hat_2\n",
    "\n",
    "# Calculating the R^2 for training and testing datasets using r2_score\n",
    "train_grad_r2 = r2_score(y_train_gd1,y_pred_train)\n",
    "test_grad_r2 = r2_score(y_test_gd1,y_pred_test)\n",
    "display(Markdown(\"$R^2 = $ {:.4f} for training and  $R^2 = $ {:.4f} for testing\".format(train_grad_r2,test_grad_r2)))"
   ]
  },
  {
   "cell_type": "code",
   "execution_count": 20,
   "metadata": {},
   "outputs": [
    {
     "data": {
      "text/plain": [
       "Text(0.5, 1.0, 'Gradient descent for part(c)')"
      ]
     },
     "execution_count": 20,
     "metadata": {},
     "output_type": "execute_result"
    },
    {
     "data": {
      "image/png": "[encoded data removed]",
      "text/plain": [
       "<Figure size 432x288 with 1 Axes>"
      ]
     },
     "metadata": {
      "needs_background": "light"
     },
     "output_type": "display_data"
    }
   ],
   "source": [
    "# Looking at the pattern of the gradient descent\n",
    "plt.plot(gradient_list_2)\n",
    "plt.xlabel(\"Iteration\")\n",
    "plt.ylabel(\"Gradient Norm\")\n",
    "plt.title(\"Gradient descent for part(c)\")"
   ]
  },
  {
   "cell_type": "markdown",
   "metadata": {},
   "source": [
    "e. Implementing stochastic gradient descent and repeating parts (a),(b) & (c)."
   ]
  },
  {
   "cell_type": "code",
   "execution_count": 21,
   "metadata": {},
   "outputs": [],
   "source": [
    "# Gradient for stochastic gradient descent\n",
    "def get_gradient(X, Y, beta_hat, single_row = False):\n",
    "    \"\"\"\n",
    "    Get the value of the gradient at beta hat\n",
    "    \"\"\"\n",
    "\n",
    "    # estimate y_hat with current beta hats\n",
    "    if single_row == True:\n",
    "        X = X.reshape(1, -1)    \n",
    "    \n",
    "    y_hat = np.dot(X, beta_hat)\n",
    "    \n",
    "    # find the difference between y and y hat\n",
    "    y_y_hat = y_hat.reshape(-1, 1) - Y.reshape(-1, 1)\n",
    "    \n",
    "    # calculate the dot product between X^T and (y - y hat)\n",
    "    val = np.dot(X.T, y_y_hat) \n",
    "\n",
    "    return(val)\n",
    "\n",
    "# Implementing stochastic gradient descent\n",
    "def stochastic_gradient_descent(X, Y, random_state, batch_size = 10, a = .01, eps = 0.1, n_iter = 10, print_zeta_norm_flg = False):\n",
    "    \"\"\"\n",
    "    Summary: \n",
    "    Run stochastic gradient descent to find beta hat from X and Y.\n",
    "\n",
    "    Args:\n",
    "        X (np.matrix): Design Matrix consisting of predictors (n x d).\n",
    "        Y (np.array): Response vector (n x 1).\n",
    "        random_state (int): Setting the seed for the random number generator.\n",
    "        batch_size (int, optional): Setting the batch size for mini-batch version. Defaults to 10.\n",
    "        a (float, optional): Value of alpha. Defaults to .01.\n",
    "        eps (float, optional): Threshold term. Defaults to 0.1.\n",
    "        n_iter (int, optional): Maximum iterations required to converge. Defaults to 10.\n",
    "        print_zeta_norm_flg (bool, optional): Boolean value deciding whether to print \n",
    "                                            the gradient norms. Defaults to False.\n",
    "    \"\"\"\n",
    "    # standardize X \n",
    "    scaler = StandardScaler()\n",
    "    scaler.fit(X)\n",
    "    X = scaler.transform(X)\n",
    "\n",
    "    # get number of observations\n",
    "    n_obs = X.shape[0]\n",
    "\n",
    "    # add intercept\n",
    "    X = np.hstack((np.ones(shape = (X.shape[0], 1)), X))\n",
    "\n",
    "    # get optimal alpha and beta\n",
    "    alpha, beta = a, 0\n",
    "\n",
    "    # initialize beta starting point\n",
    "    beta_hat = np.zeros(shape = (X.shape[1], 1))\n",
    "\n",
    "    # initialize iterations \n",
    "    iter = 0\n",
    "\n",
    "    # initialize zeta\n",
    "    zeta = 0\n",
    "    \n",
    "    # initialize gradient\n",
    "    gradient = np.inf\n",
    "\n",
    "    # store gradient and zeta info \n",
    "    grad_zeta = []\n",
    "\n",
    "    # start random number generator\n",
    "    seed = None if random_state is None else int(random_state)\n",
    "    rng = np.random.default_rng(seed=seed)\n",
    "\n",
    "    # make a list of indexes to shuffle\n",
    "    r_indx = [x for x in range(X.shape[0])]\n",
    "\n",
    "    # run the descent \n",
    "    while np.linalg.norm(gradient) > eps and iter < n_iter:\n",
    "\n",
    "        # shuffle the data points\n",
    "        rng.shuffle(r_indx)\n",
    "        \n",
    "        # update with just one point at a time \n",
    "        for start in range(0, n_obs, batch_size):\n",
    "            \n",
    "            # get batch \n",
    "            stop = start + batch_size\n",
    "            indx = r_indx[start:stop]\n",
    "\n",
    "            # get gradient at current beta\n",
    "            gradient = get_gradient(X[indx], Y[indx], beta_hat, single_row=False)\n",
    "\n",
    "            # update zeta\n",
    "            zeta = beta * zeta + (1/batch_size) * alpha * gradient \n",
    "\n",
    "            # store gradient and zeta values \n",
    "            grad_zeta.append([np.linalg.norm(gradient)])\n",
    "\n",
    "            # print magnitude of difference\n",
    "            if print_zeta_norm_flg == True: \n",
    "                #print(np.linalg.norm(zeta))\n",
    "                print(np.linalg.norm(gradient))\n",
    "        \n",
    "            # update beta hat\n",
    "            beta_hat = beta_hat - zeta \n",
    "\n",
    "        # update iterator\n",
    "        iter = iter + 1\n",
    "\n",
    "    print(\"iterations {}\".format(iter))\n",
    "\n",
    "    return(beta_hat, scaler, grad_zeta)\n"
   ]
  },
  {
   "cell_type": "code",
   "execution_count": 22,
   "metadata": {},
   "outputs": [],
   "source": [
    "def tr_inv_coeff(scaler, beta_hats):\n",
    "    \"\"\"Summary:\n",
    "        Transform coefficients back to original scale\n",
    "    \n",
    "\n",
    "    Args:\n",
    "        scaler (sklearn.preprocessing): Scalar object\n",
    "        beta_hats (_type_): Betas to be transformed back to original scale\n",
    "    \"\"\"\n",
    "\n",
    "    coeff = [(beta_hats[i+1]/scaler.scale_[i])[0] for i in range(len(scaler.scale_))]\n",
    "\n",
    "    intercept = beta_hats[0] - np.sum(np.multiply([(beta_hats[i+1]/scaler.scale_[i])[0] for i in range(len(scaler.mean_))], scaler.mean_))\n",
    "    intercept = [intercept[0]]\n",
    "\n",
    "    all_coef = intercept + coeff\n",
    "\n",
    "    return(all_coef)"
   ]
  },
  {
   "cell_type": "code",
   "execution_count": 23,
   "metadata": {},
   "outputs": [
    {
     "name": "stdout",
     "output_type": "stream",
     "text": [
      "iterations 100\n"
     ]
    }
   ],
   "source": [
    "# re-do part (a)\n",
    "X = np.array(train_df[['bedrooms', 'bathrooms', 'sqft_living','sqft_lot']])\n",
    "Y = np.array(train_df[['price']])\n",
    "beta_hats_sgd, Xscaler, gz_sd = stochastic_gradient_descent(X, Y, batch_size = 1, a = 1.0e-04, random_state=1, eps = 1, n_iter=100, print_zeta_norm_flg=False) # 250 iterations takes [[90]] seconds"
   ]
  },
  {
   "cell_type": "code",
   "execution_count": 24,
   "metadata": {},
   "outputs": [
    {
     "data": {
      "text/markdown": [
       "$R^2$ of the model on training data 0.5101 and testing: 0.50488"
      ],
      "text/plain": [
       "<IPython.core.display.Markdown object>"
      ]
     },
     "metadata": {},
     "output_type": "display_data"
    }
   ],
   "source": [
    "# Getting betas in the original scale\n",
    "beta_sgd1 = tr_inv_coeff(Xscaler, beta_hats_sgd)\n",
    "\n",
    "# Get R^2 for training data \n",
    "# add intercept\n",
    "X_tr = np.hstack((np.ones(shape = (X.shape[0], 1)), X))\n",
    "\n",
    "# get y hat/predicted value\n",
    "y_pred = np.dot(X_tr, beta_sgd1)\n",
    "\n",
    "# calculate sum of squares\n",
    "resid_ss = ((train_df['price'] - y_pred)**2).sum()\n",
    "total_ss = ((train_df['price'] - train_df['price'].mean()) ** 2).sum()\n",
    "\n",
    "# calculate R^2\n",
    "tr_r2 = 1 - resid_ss / total_ss\n",
    "\n",
    "# get the r^2 for testing data\n",
    "# subset data \n",
    "X_te = np.array(test_df[['bedrooms', 'bathrooms', 'sqft_living','sqft_lot']])\n",
    "\n",
    "# add intercept\n",
    "X_te = np.hstack((np.ones(shape = (X_te.shape[0], 1)), X_te))\n",
    "\n",
    "# get predicted value\n",
    "y_pred = np.dot(X_te, beta_sgd1)\n",
    "\n",
    "# calculate sum of squares\n",
    "resid_ss = ((test_df['price'] - y_pred)**2).sum()\n",
    "total_ss = ((test_df['price'] - test_df['price'].mean()) ** 2).sum()\n",
    "\n",
    "# calculate r^2\n",
    "te_r2 = 1 - resid_ss / total_ss\n",
    "\n",
    "# display results\n",
    "display(Markdown(f'$R^2$ of the model on training data {np.round(tr_r2, 4)} and testing: {np.round(te_r2, 5)}'))"
   ]
  },
  {
   "cell_type": "code",
   "execution_count": 25,
   "metadata": {},
   "outputs": [
    {
     "data": {
      "text/plain": [
       "Text(0.5, 1.0, 'Stochastic Gradient descent for part(a)')"
      ]
     },
     "execution_count": 25,
     "metadata": {},
     "output_type": "execute_result"
    },
    {
     "data": {
      "image/png": "[encoded data removed]",
      "text/plain": [
       "<Figure size 432x288 with 1 Axes>"
      ]
     },
     "metadata": {
      "needs_background": "light"
     },
     "output_type": "display_data"
    }
   ],
   "source": [
    "# Looking at the pattern of the stochastic gradient descent\n",
    "plt.plot(gz_sd)\n",
    "plt.xlabel(\"Iteration\")\n",
    "plt.ylabel(\"Gradient Norm\")\n",
    "plt.title(\"Stochastic Gradient descent for part(a)\")"
   ]
  },
  {
   "cell_type": "code",
   "execution_count": 26,
   "metadata": {},
   "outputs": [
    {
     "data": {
      "text/markdown": [
       "The cost of the fancy house is: $15,406,769.82"
      ],
      "text/plain": [
       "<IPython.core.display.Markdown object>"
      ]
     },
     "metadata": {},
     "output_type": "display_data"
    }
   ],
   "source": [
    "# Redo question 2 (b)\n",
    "# get the predicted price for the house\n",
    "# add intercept \n",
    "# Selecting the predictors\n",
    "X_fancy = np.array(fancy_house[[\"bedrooms\",\"bathrooms\",\"sqft_living\",\"sqft_lot\"]])\n",
    "X_fancy = Xscaler.transform(X_fancy)\n",
    "X_fancy = np.hstack((np.ones((X_fancy.shape[0],1)),X_fancy))\n",
    "\n",
    "# Using the model above for prediction\n",
    "fancy_house_cost = (X_fancy @ beta_hats_sgd)[0][0]\n",
    "display(Markdown(\"The cost of the fancy house is: ${:,.2f}\".format(fancy_house_cost)))"
   ]
  },
  {
   "cell_type": "code",
   "execution_count": 27,
   "metadata": {},
   "outputs": [
    {
     "name": "stdout",
     "output_type": "stream",
     "text": [
      "iterations 100\n"
     ]
    }
   ],
   "source": [
    "# Redo qustion 2 (c)\n",
    "# Run gradient descent for the updated model\n",
    "X = np.array(X_train[['bedrooms', 'bathrooms', 'sqft_living','sqft_lot', 'bed_bath']])\n",
    "Y = np.array(y_train)\n",
    "beta_hats_sgd2, Xscaler2, gz2 = stochastic_gradient_descent(X, Y, batch_size = 1, a = 1.0e-04, random_state=1, eps = 1, n_iter=100, print_zeta_norm_flg=False)"
   ]
  },
  {
   "cell_type": "code",
   "execution_count": 28,
   "metadata": {},
   "outputs": [],
   "source": [
    "# transform betas \n",
    "beta_sgd2 = tr_inv_coeff(Xscaler2, beta_hats_sgd2)"
   ]
  },
  {
   "cell_type": "code",
   "execution_count": 29,
   "metadata": {},
   "outputs": [
    {
     "data": {
      "text/markdown": [
       "$R^2$ of the model on training data 0.51734 and testing: 0.5104"
      ],
      "text/plain": [
       "<IPython.core.display.Markdown object>"
      ]
     },
     "metadata": {},
     "output_type": "display_data"
    }
   ],
   "source": [
    "# Get R^2 for training data \n",
    "# add intercept\n",
    "X_tr = np.hstack((np.ones(shape = (X.shape[0], 1)), X))\n",
    "\n",
    "# get y hat/predicted value\n",
    "y_pred = np.dot(X_tr, beta_sgd2)\n",
    "\n",
    "# calculate sum of squares\n",
    "resid_ss = ((train_df['price'] - y_pred)**2).sum()\n",
    "total_ss = ((train_df['price'] - train_df['price'].mean()) ** 2).sum()\n",
    "\n",
    "# calculate R^2\n",
    "tr_r2 = 1 - resid_ss / total_ss\n",
    "\n",
    "# get the r^2 for testing data\n",
    "# subset data \n",
    "X_te = np.array(X_test[['bedrooms', 'bathrooms', 'sqft_living','sqft_lot', 'bed_bath']])\n",
    "\n",
    "# add intercept\n",
    "X_te = np.hstack((np.ones(shape = (X_te.shape[0], 1)), X_te))\n",
    "\n",
    "# get predicted value\n",
    "y_pred = np.dot(X_te, beta_sgd2)\n",
    "\n",
    "# calculate sum of squares\n",
    "resid_ss = ((test_df['price'] - y_pred)**2).sum()\n",
    "total_ss = ((test_df['price'] - test_df['price'].mean()) ** 2).sum()\n",
    "\n",
    "# calculate r^2\n",
    "te_r2 = 1 - resid_ss / total_ss\n",
    "\n",
    "# display results\n",
    "display(Markdown(f'$R^2$ of the model on training data {np.round(tr_r2, 5)} and testing: {np.round(te_r2, 4)}'))"
   ]
  },
  {
   "cell_type": "code",
   "execution_count": 30,
   "metadata": {},
   "outputs": [
    {
     "data": {
      "text/plain": [
       "Text(0.5, 1.0, 'Stochastic Gradient descent for part(c)')"
      ]
     },
     "execution_count": 30,
     "metadata": {},
     "output_type": "execute_result"
    },
    {
     "data": {
      "image/png": "[encoded data removed]",
      "text/plain": [
       "<Figure size 432x288 with 1 Axes>"
      ]
     },
     "metadata": {
      "needs_background": "light"
     },
     "output_type": "display_data"
    }
   ],
   "source": [
    "plt.plot(gz2)\n",
    "plt.xlabel(\"Iteration\")\n",
    "plt.ylabel(\"Gradient Norm\")\n",
    "plt.title(\"Stochastic Gradient descent for part(c)\")"
   ]
  }
 ],
 "metadata": {
  "interpreter": {
   "hash": "5bea1dba265153f73dd176568fe5adcb617454bd08dac3159439b35e09c34b6f"
  },
  "kernelspec": {
   "display_name": "Python 3.9.6 64-bit",
   "language": "python",
   "name": "python3"
  },
  "language_info": {
   "codemirror_mode": {
    "name": "ipython",
    "version": 3
   },
   "file_extension": ".py",
   "mimetype": "text/x-python",
   "name": "python",
   "nbconvert_exporter": "python",
   "pygments_lexer": "ipython3",
   "version": "3.9.6"
  },
  "orig_nbformat": 4
 },
 "nbformat": 4,
 "nbformat_minor": 2
}
