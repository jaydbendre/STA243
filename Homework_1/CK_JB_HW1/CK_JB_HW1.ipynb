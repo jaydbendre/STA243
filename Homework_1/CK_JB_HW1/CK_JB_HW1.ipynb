{
 "cells": [
  {
   "cell_type": "markdown",
   "metadata": {},
   "source": [
    "# Homework 1\n",
    "\n",
    "By: Collin Kennedy and Jay Bendre"
   ]
  },
  {
   "cell_type": "markdown",
   "metadata": {},
   "source": [
    "## Question 4\n",
    "\n",
    "#### a. Implementing random matrix multiplication"
   ]
  },
  {
   "cell_type": "code",
   "execution_count": 1,
   "metadata": {},
   "outputs": [],
   "source": [
    "# Importing all required libraries\n",
    "import numpy as np\n",
    "import matplotlib.pyplot as plt\n",
    "\n",
    "np.random.seed(920211348) "
   ]
  },
  {
   "cell_type": "code",
   "execution_count": 2,
   "metadata": {},
   "outputs": [],
   "source": [
    "def randomized_matrix_mul(A,B, C = 100, sampling_type = 'non-uniform', r = -9999):\n",
    "    \"\"\"\n",
    "    Summary: Function generates the randomized matrix multiplication depending \n",
    "    on the parametes passed.\n",
    "    Args:\n",
    "        A (np.matrix): Matrix A of dimensions m x n\n",
    "        B (np.matrix): Matrix B of dimensions n x p\n",
    "        C (int, optional): A constant used to determine sampling. Defaults to 100.\n",
    "        sampling_type (str, optional): Decides the type of sampling ie. uniform or non uniform\n",
    "                                     Defaults to 'non-uniform'.\n",
    "    \n",
    "    Returns:\n",
    "        ans (np.matrix): Matrix C of dimensions m x p obtained by product of A and B\n",
    "    \"\"\"\n",
    "    \n",
    "    # Selecting n from the input matrices \n",
    "    n =A.shape[1]\n",
    "    \n",
    "    # Selecting a suitable r given by r = Clogn \n",
    "    # where n is the dimension of the matrix\n",
    "    if r == -9999:\n",
    "        r = int(np.round(C * np.log(n))) \n",
    "    \n",
    "    # Checking for the sampling type\n",
    "    if sampling_type == 'uniform': \n",
    "        # Probability of sampling is equal ie. 1/n \n",
    "        pk = [1/n] * n\n",
    "    else:\n",
    "        # Defined as pk = ||A||k ||B ||k / sum_i (||A||i ||B||i)\n",
    "        total_norm = sum([np.linalg.norm(A[:,k], ord = 2) * np.linalg.norm(B[k,:], ord = 2) for k in range(n)])\n",
    "        pk = [np.linalg.norm(A[:,k], ord = 2) * np.linalg.norm(B[k,:], ord = 2)/total_norm for k in range(n)]\n",
    "    \n",
    "    # getting a sample with the probability distribution pk\n",
    "    index_range = np.random.choice(range(n),r, replace = True, p = pk)\n",
    "\n",
    "    # Getting the product of all chosen rank-1 matrices \n",
    "    ans = sum((1/(pk[k] * r)) * np.outer(A[:,k], B[k,:]) for k in index_range)\n",
    "    return ans"
   ]
  },
  {
   "cell_type": "markdown",
   "metadata": {},
   "source": [
    "#### b. Loading the matrices from the given files and applying it for the given r"
   ]
  },
  {
   "cell_type": "code",
   "execution_count": 3,
   "metadata": {},
   "outputs": [],
   "source": [
    "# Loading A and B from the CSV files\n",
    "A = np.matrix(np.loadtxt('STA243_homework_1_matrix_A.csv', delimiter = ','))\n",
    "B = np.matrix(np.loadtxt('STA243_homework_1_matrix_B.csv', delimiter = ','))"
   ]
  },
  {
   "cell_type": "code",
   "execution_count": 4,
   "metadata": {},
   "outputs": [],
   "source": [
    "def mul_error(approximate, actual,A,B):\n",
    "    \"\"\"Summary: Function to calculate the error between the approximate and actual matrices\n",
    "    using the Frobenius norm\n",
    "\n",
    "    Args:\n",
    "        approximate (np.matrix): The randomized matrix multiplication output\n",
    "        actual (np.matrix): The actual matrix multiplication output\n",
    "\n",
    "    Returns:\n",
    "        _type_: float\n",
    "    \"\"\"\n",
    "    return np.linalg.norm(approximate - actual, ord = 'fro')/((np.linalg.norm(A, ord = 'fro') * np.linalg.norm(B, ord = 'fro')))"
   ]
  },
  {
   "cell_type": "markdown",
   "metadata": {},
   "source": [
    "#### c. Calculate approximation error of the matrix multiplication"
   ]
  },
  {
   "cell_type": "code",
   "execution_count": 5,
   "metadata": {},
   "outputs": [
    {
     "name": "stdout",
     "output_type": "stream",
     "text": [
      "+---------+-------+\n",
      "|  Rank   | Error |\n",
      "+=========+=======+\n",
      "| 20.000  | 0.207 |\n",
      "+---------+-------+\n",
      "| 50.000  | 0.116 |\n",
      "+---------+-------+\n",
      "| 100.000 | 0.097 |\n",
      "+---------+-------+\n",
      "| 200.000 | 0.075 |\n",
      "+---------+-------+\n",
      "\\begin{table}\n",
      "\t\\begin{center}\n",
      "\t\t\\begin{tabular}{|l|l|}\n",
      "\t\t\t\\hline\n",
      "\t\t\tRank & Error \\\\\n",
      "\t\t\t\\hline\n",
      "\t\t\t20.000 & 0.207 \\\\\n",
      "\t\t\t\\hline\n",
      "\t\t\t50.000 & 0.116 \\\\\n",
      "\t\t\t\\hline\n",
      "\t\t\t100.000 & 0.097 \\\\\n",
      "\t\t\t\\hline\n",
      "\t\t\t200.000 & 0.075 \\\\\n",
      "\t\t\t\\hline\n",
      "\t\t\\end{tabular}\n",
      "\t\\end{center}\n",
      "\t\\caption{R vs Error obtained}\n",
      "\\end{table}\n"
     ]
    }
   ],
   "source": [
    "# Calling the functions required\n",
    "\n",
    "# Checking for various columns mentioned in the question \n",
    "r = [20,50,100,200]\n",
    "\n",
    "errors = []\n",
    "actual = A @ B \n",
    "# Non-uniform sampling\n",
    "for col_val in r:\n",
    "    approximate = randomized_matrix_mul(A,B,r = col_val, sampling_type = 'non-uniform')\n",
    "    e = mul_error(approximate, actual,A,B)\n",
    "    errors.append(e)\n",
    "\n",
    "# importing the required libraries\n",
    "from texttable import Texttable\n",
    "import latextable\n",
    "table = Texttable()\n",
    "\n",
    "# Creating a table for displaying the values\n",
    "table.set_cols_dtype(['f', 'f'])\n",
    "\n",
    "x = [['Rank', 'Error']] + [[r[i], errors[i]] for i in range(len(errors))]\n",
    "table.add_rows(x)\n",
    "print(table.draw())\n",
    "print(latextable.draw_latex(table, caption = \"R vs Error obtained\"))\n"
   ]
  },
  {
   "cell_type": "markdown",
   "metadata": {},
   "source": [
    "#### d. Visualizing the errors obtained for different r values"
   ]
  },
  {
   "cell_type": "code",
   "execution_count": 6,
   "metadata": {},
   "outputs": [
    {
     "data": {
      "image/png": "[encoded data removed]",
      "text/plain": [
       "<Figure size 432x288 with 1 Axes>"
      ]
     },
     "metadata": {
      "needs_background": "light"
     },
     "output_type": "display_data"
    }
   ],
   "source": [
    "# Visualizing the errors obtained from the random multiplication\n",
    "plt.plot(r, errors, ls = '-', lw = 2, marker = 'o',\n",
    "         markersize = 10,\n",
    "         markerfacecolor = 'red', label = 'Non-uniform sampling')\n",
    "plt.xlabel('r')\n",
    "plt.ylabel('Error')\n",
    "plt.title('Error vs r')\n",
    "for i in range(len(r)):\n",
    "    plt.annotate(\"r = {} \\n Error = {:.2f}\".format(r[i],errors[i]), (r[i], errors[i]))\n",
    "    "
   ]
  },
  {
   "cell_type": "markdown",
   "metadata": {},
   "source": [
    "# Question 5\n",
    "Implementing Power method for calculating eigenvalues and eigenvectors of a square matrix"
   ]
  },
  {
   "cell_type": "code",
   "execution_count": 7,
   "metadata": {},
   "outputs": [],
   "source": [
    "def power_iteration(A, v0, eps = 1e-6, maxiter=100):\n",
    "    \"\"\"\n",
    "    Summary: \n",
    "    Function to implement the power iteration algorithm to find the eigenvector of the matrix A\n",
    "    Args:\n",
    "        A: np.array (d, d) = Matrix A for which the eigenvector is to be found\n",
    "        v0: np.array (d,) = unit vector to be used as the initial vector\n",
    "        eps: float  = Error tolerance\n",
    "        maxiter: int = Maximum number of iterations\n",
    "    \n",
    "    Returns:\n",
    "        v: np.array (d,) = Eigenvector of A\n",
    "    \"\"\"\n",
    "    for _ in range(maxiter):\n",
    "        # Calculating the dot product of the matrix A and the current vector\n",
    "        v = A @ v0\n",
    "        # Normalizing the vector\n",
    "        v = v/np.linalg.norm(v,2)\n",
    "        # Checking for the convergence\n",
    "        if np.linalg.norm(v - v0, 2) < eps:\n",
    "            return v\n",
    "        # Updating the current vector\n",
    "        v0 = v\n",
    "        \n",
    "    return v"
   ]
  },
  {
   "cell_type": "code",
   "execution_count": 8,
   "metadata": {},
   "outputs": [
    {
     "data": {
      "image/png": "[encoded data removed]",
      "text/plain": [
       "<Figure size 432x288 with 1 Axes>"
      ]
     },
     "metadata": {
      "needs_background": "light"
     },
     "output_type": "display_data"
    }
   ],
   "source": [
    "# Implementing the driver code given in the power_sim.py file \n",
    "np.random.seed(2022)\n",
    "E = np.random.normal(size=(10,10))\n",
    "v = np.array([1]+[0]*9)\n",
    "lams = np.arange(1, 11)\n",
    "prods = []\n",
    "for lam in lams:\n",
    "    X = lam*np.outer(v,v) + E\n",
    "    v0 = np.ones(10)\n",
    "    v0 = v0/np.linalg.norm(v0,2)\n",
    "    vv = power_iteration(X, v0)\n",
    "    prods.append(np.abs(v @ vv))\n",
    "\n",
    "plt.plot(lams, prods, '-ok')\n",
    "plt.xlabel('lambda')\n",
    "plt.ylabel('product')\n",
    "plt.show()\n",
    "\n",
    "\n"
   ]
  },
  {
   "cell_type": "markdown",
   "metadata": {},
   "source": [
    "# Question 6\n",
    "Implementing the sketched OLS"
   ]
  },
  {
   "cell_type": "code",
   "execution_count": 9,
   "metadata": {},
   "outputs": [],
   "source": [
    "# Importing scipy and other required libraries\n",
    "import scipy as sp\n",
    "import scipy.sparse\n",
    "from numba import jit\n",
    "import time"
   ]
  },
  {
   "cell_type": "code",
   "execution_count": 10,
   "metadata": {},
   "outputs": [],
   "source": [
    "# Improving the speed of execution by using numba\n",
    "@jit(nopython=True)\n",
    "def sketchify(D):\n",
    "    \"\"\"Summary:\n",
    "    For a given matrix runs all the necessary information and returns the sketch matrix\n",
    "\n",
    "    Args:\n",
    "        D (np.matrix): matrix to be transformed\n",
    "    \n",
    "    Returns:\n",
    "        D: Applies a FHWT transform on the given matrix\n",
    "    \"\"\"\n",
    "    # Implementing the Fast Walsh Hadamard Transform (From Wikipedia)\n",
    "    def fwht(a):\n",
    "        \"\"\"In-place Fast Walsh–Hadamard Transform of array a.\"\"\"\n",
    "        h = 1\n",
    "        while h < len(a):\n",
    "            for i in range(0, len(a), h * 2):\n",
    "                for j in range(i, i + h):\n",
    "                    x = a[j]\n",
    "                    y = a[j + h]\n",
    "                    a[j] = x + y\n",
    "                    a[j + h] = x - y\n",
    "            h *= 2\n",
    "        return a\n",
    "    \n",
    "    # Getting n \n",
    "    n = D.shape[0]\n",
    "    \n",
    "    # Getting the sketch matrix\n",
    "    return fwht(D)/np.sqrt(n)\n",
    "    \n",
    "\n",
    "def sketched_ols(X,y,eps):\n",
    "    \"\"\"Summary: \n",
    "    Function to implement the sketched OLS method\n",
    "\n",
    "    Args:\n",
    "        X ( np.matrix): Covariates for the given data\n",
    "        y (np.matrix): Response vector\n",
    "        eps (float): Error term used in determing 'r' columns to be sampled\n",
    "    \n",
    "    Returns:\n",
    "        beta (np.matrix): Estimated coefficients\n",
    "        time (float): endTime - startTime : Time taken to run the algorithm\n",
    "    \"\"\"\n",
    "    \n",
    "    # Checking for the dimensions of the input matrices\n",
    "    if X.shape[0] != y.shape[0]:\n",
    "        raise ValueError('X and y must have the same number of rows')\n",
    "    \n",
    "    # Assigning n  & d \n",
    "    n = X.shape[0]\n",
    "    d = X.shape[1]\n",
    "    \n",
    "    r = int(d * np.log(n)/eps)\n",
    "    \n",
    "    # Getting the S matrix \n",
    "    s = []\n",
    "    \n",
    "    # columnar constant \n",
    "    k = np.sqrt(n/r)\n",
    "    \n",
    "    row = []\n",
    "    col = []\n",
    "    data = []\n",
    "    # Generating the subsample matrix S\n",
    "    for iter in range(r):\n",
    "        i = np.random.randint(1,n)\n",
    "        row.append(i)\n",
    "        col.append(iter)\n",
    "        \n",
    "        data.append(k)  \n",
    "    \n",
    "    # Using the sparse matrix to generate the S matrix and avoid memory errors    \n",
    "    S = sp.sparse.csc_matrix((data,(row,col)), shape = (n,r))\n",
    "    \n",
    "    # Creating the diagonal matrix D\n",
    "    D = np.random.choice([-1,1], size = (n,), replace = True).reshape(n,1)\n",
    "    \n",
    "    # Sketch of X\n",
    "    sx = sketchify(D*X)\n",
    "    \n",
    "    # Sketch of y\n",
    "    sy = sketchify(D*y)\n",
    "    \n",
    "    # Divinding the final multiplication into 2 steps\n",
    "    # Start time for a given eps \n",
    "    startTime = time.time()\n",
    "    component_1 = S.T @ sx\n",
    "    component_2 = S.T @ sy\n",
    "\n",
    "    # Calculating the final matrix ie. the estimates\n",
    "    bs = np.linalg.inv(component_1.T @ component_1) @ component_1.T @ component_2\n",
    "    \n",
    "    # End time for a given eps\n",
    "    endTime = time.time()\n",
    "    \n",
    "    # Returning the final estimates and the time taken\n",
    "    return (bs,(endTime-startTime))\n"
   ]
  },
  {
   "cell_type": "code",
   "execution_count": 11,
   "metadata": {},
   "outputs": [],
   "source": [
    "# Constant defined in the problem \n",
    "z = 2**20\n",
    "\n",
    "np.random.seed(920211348)\n",
    "# getting X and y matrix \n",
    "X = np.random.uniform(size = (z,20))\n",
    "y = np.random.uniform(size = (z,1)) \n",
    "\n",
    "# Apply the sketched OLS method for all given errors\n",
    "eps = [0.1,0.05,0.01,0.001]\n",
    "estimated_betas = {}\n",
    "computation_times = [0] * len(eps)\n",
    "i = 0\n",
    "for e in eps:\n",
    "    estimated_betas[str(e)],computation_times[i] = sketched_ols(X,y,e)\n",
    "    i += 1"
   ]
  },
  {
   "cell_type": "code",
   "execution_count": 12,
   "metadata": {},
   "outputs": [],
   "source": [
    "# Calculating the actual time required for computing the betas\n",
    "startTime = time.time()\n",
    "\n",
    "computing_actual_betas = np.linalg.inv(X.T @ X) @ X.T @ y\n",
    "endTime = time.time()\n",
    "\n",
    "actual_time = endTime - startTime"
   ]
  },
  {
   "cell_type": "code",
   "execution_count": 15,
   "metadata": {},
   "outputs": [],
   "source": [
    "# Calculating the relative error for each of the epsilon values\n",
    "errors = {}\n",
    "for e,b in estimated_betas.items():\n",
    "    errors[str(e)] = np.linalg.norm(b - computing_actual_betas,2) ** 2"
   ]
  },
  {
   "cell_type": "code",
   "execution_count": 16,
   "metadata": {},
   "outputs": [
    {
     "name": "stdout",
     "output_type": "stream",
     "text": [
      "+---------+------------------------------+-------------------+---------------+\n",
      "| Epsilon | Error ||estimate - actual||2 | Computation Times | % Improvement |\n",
      "+=========+==============================+===================+===============+\n",
      "| 0.100   | 0.149                        | 0.003             | 6226.286%     |\n",
      "+---------+------------------------------+-------------------+---------------+\n",
      "| 0.050   | 0.062                        | 0.003             | 4897.174%     |\n",
      "+---------+------------------------------+-------------------+---------------+\n",
      "| 0.010   | 0.059                        | 0.009             | 1790.618%     |\n",
      "+---------+------------------------------+-------------------+---------------+\n",
      "| 0.001   | 0.101                        | 0.080             | 110.963%      |\n",
      "+---------+------------------------------+-------------------+---------------+\n",
      "\\begin{table}\n",
      "\t\\begin{center}\n",
      "\t\t\\begin{tabular}{|l|l|l|l|}\n",
      "\t\t\t\\hline\n",
      "\t\t\tEpsilon & Error ||estimate - actual||2 & Computation Times & % Improvement \\\\\n",
      "\t\t\t\\hline\n",
      "\t\t\t0.100 & 0.149 & 0.003 & 6226.286% \\\\\n",
      "\t\t\t\\hline\n",
      "\t\t\t0.050 & 0.062 & 0.003 & 4897.174% \\\\\n",
      "\t\t\t\\hline\n",
      "\t\t\t0.010 & 0.059 & 0.009 & 1790.618% \\\\\n",
      "\t\t\t\\hline\n",
      "\t\t\t0.001 & 0.101 & 0.080 & 110.963% \\\\\n",
      "\t\t\t\\hline\n",
      "\t\t\\end{tabular}\n",
      "\t\\end{center}\n",
      "\t\\caption{Epsilon vs Error obtained}\n",
      "\\end{table}\n"
     ]
    }
   ],
   "source": [
    "# Creating the table for the errors\n",
    "table_2 = Texttable()\n",
    "\n",
    "table_2.set_cols_dtype(['f', 'f','f','t'])\n",
    "\n",
    "x = [['Epsilon', 'Error ||estimate - actual||2','Computation Times','% Improvement']] + [\n",
    "    [e,error,t,\"{:.3f}%\".format((actual_time-t)/t * 100)] for (e,error),t in zip(errors.items(),computation_times)]\n",
    "table_2.add_rows(x)\n",
    "print(table_2.draw())\n",
    "print(latextable.draw_latex(table_2, caption = \"Epsilon vs Error obtained\"))"
   ]
  },
  {
   "cell_type": "code",
   "execution_count": null,
   "metadata": {},
   "outputs": [],
   "source": []
  }
 ],
 "metadata": {
  "interpreter": {
   "hash": "5bea1dba265153f73dd176568fe5adcb617454bd08dac3159439b35e09c34b6f"
  },
  "kernelspec": {
   "display_name": "Python 3.9.6 64-bit",
   "language": "python",
   "name": "python3"
  },
  "language_info": {
   "codemirror_mode": {
    "name": "ipython",
    "version": 3
   },
   "file_extension": ".py",
   "mimetype": "text/x-python",
   "name": "python",
   "nbconvert_exporter": "python",
   "pygments_lexer": "ipython3",
   "version": "3.9.6"
  },
  "orig_nbformat": 4
 },
 "nbformat": 4,
 "nbformat_minor": 2
}
