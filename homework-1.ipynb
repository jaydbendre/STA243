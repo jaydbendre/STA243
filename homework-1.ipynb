{
 "cells": [
  {
   "cell_type": "markdown",
   "metadata": {},
   "source": [
    "## Question 2\n",
    "\n",
    "#### Implementing random matrix multiplication\n",
    "\n",
    "For the following problem, I make the following assumptions \n",
    "\n",
    "1. $A \\in \\mathbb{R}^{10X10}$\n",
    "2. $B \\in \\mathbb{R}^{10X10}$\n"
   ]
  },
  {
   "cell_type": "code",
   "execution_count": 74,
   "metadata": {},
   "outputs": [],
   "source": [
    "# Importing all required libraries\n",
    "import numpy as np\n",
    "import matplotlib.pyplot as plt\n",
    "import seaborn as sns "
   ]
  },
  {
   "cell_type": "code",
   "execution_count": 61,
   "metadata": {},
   "outputs": [],
   "source": [
    "def randomized_matrix_mul(A,B, C = 100, sampling_type = 'non-uniform'):\n",
    "    \"\"\"\n",
    "    Summary: Function generates the randomized matrix multiplication depending \n",
    "    on the parametes passed.\n",
    "    Args:\n",
    "        A (np.matrix): Matrix A of dimensions m x n\n",
    "        B (np.matrix): Matrix B of dimensions n x p\n",
    "        C (int, optional): A constant used to determine sampling. Defaults to 100.\n",
    "        sampling_type (str, optional): Decides the type of sampling ie. uniform or non uniform\n",
    "                                     Defaults to 'non-uniform'.\n",
    "    \"\"\"\n",
    "    \n",
    "    # Selecting n from the input matrices \n",
    "    n =A.shape[1]\n",
    "    \n",
    "    # Selecting a suitable r given by r = Clogn \n",
    "    # where n is the dimension of the matrix\n",
    "    r = int(np.round(C * np.log(n))) \n",
    "    \n",
    "    # Checking for the sampling type\n",
    "    if sampling_type == 'uniform': \n",
    "        pk = [1/n] * n\n",
    "    else:\n",
    "        total_norm = sum([np.linalg.norm(A[:,k], ord = 2) * np.linalg.norm(B[k,:], ord = 2) for k in range(n)])\n",
    "        pk = [np.linalg.norm(A[:,k], ord = 2) * np.linalg.norm(B[k,:], ord = 2)/total_norm for k in range(n)]\n",
    "    \n",
    "    # getting a sample with the probability distribution pk\n",
    "    index_range = np.random.choice(range(n),r, replace = True, p = pk)\n",
    "\n",
    "    # Getting the product of all chosen rank-1 matrices \n",
    "    ans = sum((1/(pk[k] * r)) * np.outer(A[:,k], B[k,:]) for k in index_range)\n",
    "    \n",
    "    return ans\n",
    "    # Generating random indices tha"
   ]
  },
  {
   "cell_type": "code",
   "execution_count": 66,
   "metadata": {},
   "outputs": [],
   "source": [
    "def mul_error(approximate, actual):\n",
    "    \"\"\"Summary: Function to calculate the error between the approximate and actual matrices\n",
    "    using the Frobenius norm\n",
    "\n",
    "    Args:\n",
    "        approximate (np.matrix): The randomized matrix multiplication output\n",
    "        actual (np.matrix): The actual matrix multiplication output\n",
    "\n",
    "    Returns:\n",
    "        _type_: float\n",
    "    \"\"\"\n",
    "    return np.linalg.norm(approximate - actual, ord = 'fro')"
   ]
  },
  {
   "cell_type": "code",
   "execution_count": 63,
   "metadata": {},
   "outputs": [
    {
     "name": "stdout",
     "output_type": "stream",
     "text": [
      "A : \n",
      " [[  1   2   3   4   5   6   7   8   9  10]\n",
      " [ 11  12  13  14  15  16  17  18  19  20]\n",
      " [ 21  22  23  24  25  26  27  28  29  30]\n",
      " [ 31  32  33  34  35  36  37  38  39  40]\n",
      " [ 41  42  43  44  45  46  47  48  49  50]\n",
      " [ 51  52  53  54  55  56  57  58  59  60]\n",
      " [ 61  62  63  64  65  66  67  68  69  70]\n",
      " [ 71  72  73  74  75  76  77  78  79  80]\n",
      " [ 81  82  83  84  85  86  87  88  89  90]\n",
      " [ 91  92  93  94  95  96  97  98  99 100]] \n",
      "B : \n",
      " [[100  99  98  97  96  95  94  93  92  91]\n",
      " [ 90  89  88  87  86  85  84  83  82  81]\n",
      " [ 80  79  78  77  76  75  74  73  72  71]\n",
      " [ 70  69  68  67  66  65  64  63  62  61]\n",
      " [ 60  59  58  57  56  55  54  53  52  51]\n",
      " [ 50  49  48  47  46  45  44  43  42  41]\n",
      " [ 40  39  38  37  36  35  34  33  32  31]\n",
      " [ 30  29  28  27  26  25  24  23  22  21]\n",
      " [ 20  19  18  17  16  15  14  13  12  11]\n",
      " [ 10   9   8   7   6   5   4   3   2   1]]\n"
     ]
    }
   ],
   "source": [
    "# Generating A & B \n",
    "A = np.matrix(np.array(range(1,101)).reshape(10,10))\n",
    "B = np.matrix(np.array(range(100,0,-1)).reshape(10,10))\n",
    "\n",
    "# Showing A and B \n",
    "print(\"A : \\n {} \\nB : \\n {}\".format(A,B))"
   ]
  },
  {
   "cell_type": "code",
   "execution_count": 76,
   "metadata": {},
   "outputs": [],
   "source": [
    "# Calling the functions required\n",
    "\n",
    "# Checking for various C's \n",
    "C = [10**i for i in range(1,6)]\n",
    "\n",
    "errors = []\n",
    "actual = A @ B \n",
    "# Non-uniform sampling\n",
    "for c in C:\n",
    "    approximate = randomized_matrix_mul(A,B,c)\n",
    "    e = mul_error(approximate, actual)\n",
    "    errors.append(e)\n"
   ]
  },
  {
   "cell_type": "code",
   "execution_count": 95,
   "metadata": {},
   "outputs": [
    {
     "data": {
      "image/png": "[encoded data removed]",
      "text/plain": [
       "<Figure size 432x288 with 1 Axes>"
      ]
     },
     "metadata": {
      "needs_background": "light"
     },
     "output_type": "display_data"
    }
   ],
   "source": [
    "# Visualizing the errors obtained from the random multiplication\n",
    "plt.plot(C, errors, ls = ':', lw = 5, marker = 'o',\n",
    "         markersize = 10,\n",
    "         markerfacecolor = 'red', label = 'Non-uniform sampling')\n",
    "\n",
    "for i in range(len(C)):\n",
    "    plt.annotate(\"C = {} \\n Error = {:.2f}\".format(C[i],errors[i]), (C[i] + 100, errors[i]))\n",
    "    "
   ]
  },
  {
   "cell_type": "code",
   "execution_count": null,
   "metadata": {},
   "outputs": [
    {
     "data": {
      "text/plain": [
       "matrix([[ 2200,  2145,  2090,  2035,  1980,  1925,  1870,  1815,  1760,\n",
       "          1705],\n",
       "        [ 7700,  7545,  7390,  7235,  7080,  6925,  6770,  6615,  6460,\n",
       "          6305],\n",
       "        [13200, 12945, 12690, 12435, 12180, 11925, 11670, 11415, 11160,\n",
       "         10905],\n",
       "        [18700, 18345, 17990, 17635, 17280, 16925, 16570, 16215, 15860,\n",
       "         15505],\n",
       "        [24200, 23745, 23290, 22835, 22380, 21925, 21470, 21015, 20560,\n",
       "         20105],\n",
       "        [29700, 29145, 28590, 28035, 27480, 26925, 26370, 25815, 25260,\n",
       "         24705],\n",
       "        [35200, 34545, 33890, 33235, 32580, 31925, 31270, 30615, 29960,\n",
       "         29305],\n",
       "        [40700, 39945, 39190, 38435, 37680, 36925, 36170, 35415, 34660,\n",
       "         33905],\n",
       "        [46200, 45345, 44490, 43635, 42780, 41925, 41070, 40215, 39360,\n",
       "         38505],\n",
       "        [51700, 50745, 49790, 48835, 47880, 46925, 45970, 45015, 44060,\n",
       "         43105]])"
      ]
     },
     "execution_count": 57,
     "metadata": {},
     "output_type": "execute_result"
    }
   ],
   "source": [
    "A @ B"
   ]
  },
  {
   "cell_type": "code",
   "execution_count": 72,
   "metadata": {},
   "outputs": [
    {
     "data": {
      "text/plain": [
       "array([[ 2179.5286754 ,  2125.24584998,  2070.96302455,  2016.68019912,\n",
       "         1962.3973737 ,  1908.11454827,  1853.83172285,  1799.54889742,\n",
       "         1745.26607199,  1690.98324657],\n",
       "       [ 7679.68132624,  7526.04908997,  7372.41685369,  7218.78461742,\n",
       "         7065.15238114,  6911.52014487,  6757.88790859,  6604.25567232,\n",
       "         6450.62343604,  6296.99119977],\n",
       "       [13179.83397709, 12926.85232996, 12673.87068284, 12420.88903571,\n",
       "        12167.90738859, 11914.92574146, 11661.94409434, 11408.96244721,\n",
       "        11155.98080009, 10902.99915297],\n",
       "       [18679.98662793, 18327.65556996, 17975.32451198, 17622.99345401,\n",
       "        17270.66239603, 16918.33133806, 16566.00028009, 16213.66922211,\n",
       "        15861.33816414, 15509.00710616],\n",
       "       [24180.13927877, 23728.45880995, 23276.77834113, 22825.0978723 ,\n",
       "        22373.41740348, 21921.73693466, 21470.05646583, 21018.37599701,\n",
       "        20566.69552819, 20115.01505936],\n",
       "       [29680.29192962, 29129.26204994, 28578.23217027, 28027.2022906 ,\n",
       "        27476.17241092, 26925.14253125, 26374.11265158, 25823.08277191,\n",
       "        25272.05289223, 24721.02301256],\n",
       "       [35180.44458046, 34530.06528994, 33879.68599941, 33229.30670889,\n",
       "        32578.92741837, 31928.54812785, 31278.16883733, 30627.7895468 ,\n",
       "        29977.41025628, 29327.03096576],\n",
       "       [40680.5972313 , 39930.86852993, 39181.13982856, 38431.41112719,\n",
       "        37681.68242582, 36931.95372444, 36182.22502307, 35432.4963217 ,\n",
       "        34682.76762033, 33933.03891896],\n",
       "       [46180.74988214, 45331.67176992, 44482.5936577 , 43633.51554548,\n",
       "        42784.43743326, 41935.35932104, 41086.28120882, 40237.2030966 ,\n",
       "        39388.12498438, 38539.04687216],\n",
       "       [51680.90253299, 50732.47500992, 49784.04748685, 48835.61996378,\n",
       "        47887.19244071, 46938.76491764, 45990.33739457, 45041.9098715 ,\n",
       "        44093.48234843, 43145.05482536]])"
      ]
     },
     "execution_count": 72,
     "metadata": {},
     "output_type": "execute_result"
    }
   ],
   "source": [
    "randomized_matrix_mul(A,B,C = 1000)"
   ]
  },
  {
   "cell_type": "code",
   "execution_count": null,
   "metadata": {},
   "outputs": [],
   "source": []
  }
 ],
 "metadata": {
  "interpreter": {
   "hash": "5bea1dba265153f73dd176568fe5adcb617454bd08dac3159439b35e09c34b6f"
  },
  "kernelspec": {
   "display_name": "Python 3.9.6 64-bit",
   "language": "python",
   "name": "python3"
  },
  "language_info": {
   "codemirror_mode": {
    "name": "ipython",
    "version": 3
   },
   "file_extension": ".py",
   "mimetype": "text/x-python",
   "name": "python",
   "nbconvert_exporter": "python",
   "pygments_lexer": "ipython3",
   "version": "3.9.6"
  },
  "orig_nbformat": 4
 },
 "nbformat": 4,
 "nbformat_minor": 2
}
