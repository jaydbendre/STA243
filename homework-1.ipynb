{
 "cells": [
  {
   "cell_type": "markdown",
   "metadata": {},
   "source": [
    "## Question 4\n",
    "\n",
    "#### a. Implementing random matrix multiplication"
   ]
  },
  {
   "cell_type": "code",
   "execution_count": 51,
   "metadata": {},
   "outputs": [],
   "source": [
    "# Importing all required libraries\n",
    "import numpy as np\n",
    "import matplotlib.pyplot as plt\n",
    "\n",
    "np.random.seed(920211348) "
   ]
  },
  {
   "cell_type": "code",
   "execution_count": 52,
   "metadata": {},
   "outputs": [],
   "source": [
    "def randomized_matrix_mul(A,B, C = 100, sampling_type = 'non-uniform', r = -9999):\n",
    "    \"\"\"\n",
    "    Summary: Function generates the randomized matrix multiplication depending \n",
    "    on the parametes passed.\n",
    "    Args:\n",
    "        A (np.matrix): Matrix A of dimensions m x n\n",
    "        B (np.matrix): Matrix B of dimensions n x p\n",
    "        C (int, optional): A constant used to determine sampling. Defaults to 100.\n",
    "        sampling_type (str, optional): Decides the type of sampling ie. uniform or non uniform\n",
    "                                     Defaults to 'non-uniform'.\n",
    "    \n",
    "    Returns:\n",
    "        ans (np.matrix): Matrix C of dimensions m x p obtained by product of A and B\n",
    "    \"\"\"\n",
    "    \n",
    "    # Selecting n from the input matrices \n",
    "    n =A.shape[1]\n",
    "    \n",
    "    # Selecting a suitable r given by r = Clogn \n",
    "    # where n is the dimension of the matrix\n",
    "    if r == -9999:\n",
    "        r = int(np.round(C * np.log(n))) \n",
    "    \n",
    "    # Checking for the sampling type\n",
    "    if sampling_type == 'uniform': \n",
    "        # Probability of sampling is equal ie. 1/n \n",
    "        pk = [1/n] * n\n",
    "    else:\n",
    "        # Defined as pk = ||A||k ||B ||k / sum_i (||A||i ||B||i)\n",
    "        total_norm = sum([np.linalg.norm(A[:,k], ord = 2) * np.linalg.norm(B[k,:], ord = 2) for k in range(n)])\n",
    "        pk = [np.linalg.norm(A[:,k], ord = 2) * np.linalg.norm(B[k,:], ord = 2)/total_norm for k in range(n)]\n",
    "    \n",
    "    # getting a sample with the probability distribution pk\n",
    "    index_range = np.random.choice(range(n),r, replace = True, p = pk)\n",
    "\n",
    "    # Getting the product of all chosen rank-1 matrices \n",
    "    ans = sum((1/(pk[k] * r)) * np.outer(A[:,k], B[k,:]) for k in index_range)\n",
    "    return ans"
   ]
  },
  {
   "cell_type": "markdown",
   "metadata": {},
   "source": [
    "#### b. Loading the matrices from the given files and applying it for the given r"
   ]
  },
  {
   "cell_type": "code",
   "execution_count": 53,
   "metadata": {},
   "outputs": [],
   "source": [
    "# Loading A and B from the CSV files\n",
    "A = np.matrix(np.loadtxt('STA243_homework_1_matrix_A.csv', delimiter = ','))\n",
    "B = np.matrix(np.loadtxt('STA243_homework_1_matrix_B.csv', delimiter = ','))"
   ]
  },
  {
   "cell_type": "code",
   "execution_count": 54,
   "metadata": {},
   "outputs": [],
   "source": [
    "def mul_error(approximate, actual,A,B):\n",
    "    \"\"\"Summary: Function to calculate the error between the approximate and actual matrices\n",
    "    using the Frobenius norm\n",
    "\n",
    "    Args:\n",
    "        approximate (np.matrix): The randomized matrix multiplication output\n",
    "        actual (np.matrix): The actual matrix multiplication output\n",
    "\n",
    "    Returns:\n",
    "        _type_: float\n",
    "    \"\"\"\n",
    "    return np.linalg.norm(approximate - actual, ord = 'fro')/((np.linalg.norm(A, ord = 'fro') * np.linalg.norm(B, ord = 'fro')))"
   ]
  },
  {
   "cell_type": "markdown",
   "metadata": {},
   "source": [
    "#### c. Calculate approximation error of the matrix multiplication"
   ]
  },
  {
   "cell_type": "code",
   "execution_count": 55,
   "metadata": {},
   "outputs": [
    {
     "name": "stdout",
     "output_type": "stream",
     "text": [
      "+---------+-------+\n",
      "|  Rank   | Error |\n",
      "+=========+=======+\n",
      "| 20.000  | 0.207 |\n",
      "+---------+-------+\n",
      "| 50.000  | 0.116 |\n",
      "+---------+-------+\n",
      "| 100.000 | 0.097 |\n",
      "+---------+-------+\n",
      "| 200.000 | 0.075 |\n",
      "+---------+-------+\n",
      "| 500.000 | 0.047 |\n",
      "+---------+-------+\n"
     ]
    }
   ],
   "source": [
    "# Calling the functions required\n",
    "\n",
    "# Checking for various columns mentioned in the question \n",
    "r = [20,50,100,200,500]\n",
    "\n",
    "errors = []\n",
    "actual = A @ B \n",
    "# Non-uniform sampling\n",
    "for col_val in r:\n",
    "    approximate = randomized_matrix_mul(A,B,r = col_val, sampling_type = 'non-uniform')\n",
    "    e = mul_error(approximate, actual,A,B)\n",
    "    errors.append(e)\n",
    "\n",
    "# importing the required libraries\n",
    "from texttable import Texttable\n",
    "table = Texttable()\n",
    "\n",
    "table.set_cols_dtype(['f', 'f'])\n",
    "\n",
    "x = [['Rank', 'Error']] + [[r[i], errors[i]] for i in range(len(errors))]\n",
    "table.add_rows(x)\n",
    "print(table.draw())\n",
    "# for col_val,error in zip(r,errors):\n",
    "#     print('For r = {} the error is {}'.format(col_val,error))"
   ]
  },
  {
   "cell_type": "markdown",
   "metadata": {},
   "source": [
    "#### d. Visualizing the errors obtained for different r values"
   ]
  },
  {
   "cell_type": "code",
   "execution_count": 56,
   "metadata": {},
   "outputs": [
    {
     "data": {
      "image/png": "[encoded data removed]",
      "text/plain": [
       "<Figure size 432x288 with 1 Axes>"
      ]
     },
     "metadata": {
      "needs_background": "light"
     },
     "output_type": "display_data"
    }
   ],
   "source": [
    "# Visualizing the errors obtained from the random multiplication\n",
    "plt.plot(r, errors, ls = '-', lw = 2, marker = 'o',\n",
    "         markersize = 10,\n",
    "         markerfacecolor = 'red', label = 'Non-uniform sampling')\n",
    "plt.xlabel('r')\n",
    "plt.ylabel('Error')\n",
    "plt.title('Error vs r')\n",
    "for i in range(len(r)):\n",
    "    plt.annotate(\"r = {} \\n Error = {:.2f}\".format(r[i],errors[i]), (r[i], errors[i]))\n",
    "    "
   ]
  },
  {
   "cell_type": "markdown",
   "metadata": {},
   "source": [
    "# Question 5\n",
    "Implementing Power method for calculating eigenvalues and eigenvectors of a square matrix"
   ]
  },
  {
   "cell_type": "code",
   "execution_count": 57,
   "metadata": {},
   "outputs": [],
   "source": [
    "def power_iteration(A, v0, eps = 1e-6, maxiter=100):\n",
    "    \"\"\"\n",
    "    Summary: \n",
    "    Function to implement the power iteration algorithm to find the eigenvector of the matrix A\n",
    "    Args:\n",
    "        A: np.array (d, d) = Matrix A for which the eigenvector is to be found\n",
    "        v0: np.array (d,) = unit vector to be used as the initial vector\n",
    "        eps: float  = Error tolerance\n",
    "        maxiter: int = Maximum number of iterations\n",
    "    \n",
    "    Returns:\n",
    "        v: np.array (d,) = Eigenvector of A\n",
    "    \"\"\"\n",
    "    for _ in range(maxiter):\n",
    "        # Calculating the dot product of the matrix A and the current vector\n",
    "        v = A @ v0\n",
    "        # Normalizing the vector\n",
    "        v = v/np.linalg.norm(v,2)\n",
    "        # Checking for the convergence\n",
    "        if np.linalg.norm(v - v0, 2) < eps:\n",
    "            return v\n",
    "        # Updating the current vector\n",
    "        v0 = v\n",
    "        \n",
    "    return v"
   ]
  },
  {
   "cell_type": "code",
   "execution_count": 58,
   "metadata": {},
   "outputs": [
    {
     "data": {
      "image/png": "[encoded data removed]",
      "text/plain": [
       "<Figure size 432x288 with 1 Axes>"
      ]
     },
     "metadata": {
      "needs_background": "light"
     },
     "output_type": "display_data"
    }
   ],
   "source": [
    "# Implementing the driver code given in the power_sim.py file \n",
    "np.random.seed(2022)\n",
    "E = np.random.normal(size=(10,10))\n",
    "v = np.array([1]+[0]*9)\n",
    "lams = np.arange(1, 11)\n",
    "prods = []\n",
    "for lam in lams:\n",
    "    X = lam*np.outer(v,v) + E\n",
    "    v0 = np.ones(10)\n",
    "    v0 = v0/np.linalg.norm(v0,2)\n",
    "    vv = power_iteration(X, v0)\n",
    "    prods.append(np.abs(v @ vv))\n",
    "\n",
    "plt.plot(lams, prods, '-ok')\n",
    "plt.xlabel('lambda')\n",
    "plt.ylabel('product')\n",
    "plt.show()\n",
    "\n",
    "\n"
   ]
  }
 ],
 "metadata": {
  "interpreter": {
   "hash": "5bea1dba265153f73dd176568fe5adcb617454bd08dac3159439b35e09c34b6f"
  },
  "kernelspec": {
   "display_name": "Python 3.9.6 64-bit",
   "language": "python",
   "name": "python3"
  },
  "language_info": {
   "codemirror_mode": {
    "name": "ipython",
    "version": 3
   },
   "file_extension": ".py",
   "mimetype": "text/x-python",
   "name": "python",
   "nbconvert_exporter": "python",
   "pygments_lexer": "ipython3",
   "version": "3.9.6"
  },
  "orig_nbformat": 4
 },
 "nbformat": 4,
 "nbformat_minor": 2
}
